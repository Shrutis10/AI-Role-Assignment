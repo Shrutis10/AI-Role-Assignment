{
 "cells": [
  {
   "cell_type": "code",
   "execution_count": 1,
   "id": "096451da-5db0-44e7-860e-dee6ca2b7276",
   "metadata": {},
   "outputs": [
    {
     "name": "stdout",
     "output_type": "stream",
     "text": [
      "Requirement already satisfied: opencv-python in c:\\users\\shruti satam\\appdata\\local\\programs\\python\\python311\\lib\\site-packages (4.8.1.78)\n",
      "Requirement already satisfied: numpy in c:\\users\\shruti satam\\appdata\\local\\programs\\python\\python311\\lib\\site-packages (1.25.2)\n",
      "Note: you may need to restart the kernel to use updated packages.\n"
     ]
    },
    {
     "name": "stderr",
     "output_type": "stream",
     "text": [
      "\n",
      "[notice] A new release of pip is available: 23.3.1 -> 24.1.1\n",
      "[notice] To update, run: python.exe -m pip install --upgrade pip\n"
     ]
    }
   ],
   "source": [
    "pip install opencv-python numpy"
   ]
  },
  {
   "cell_type": "code",
   "execution_count": 2,
   "id": "48db414f-392f-4382-b039-204ce6a33946",
   "metadata": {},
   "outputs": [],
   "source": [
    "import cv2\n",
    "import numpy as np\n",
    "import time\n",
    "import os"
   ]
  },
  {
   "cell_type": "code",
   "execution_count": 3,
   "id": "c471f8fe-d2d5-4a1d-9f23-54e8291e0c02",
   "metadata": {},
   "outputs": [],
   "source": [
    "# Define the video path\n",
    "video_path = \"E:\\AI Assign\\AI Assignment video.mp4\"\n",
    "\n",
    "# Check if the file exists\n",
    "if not os.path.exists(video_path):\n",
    "    raise ValueError(f\"Error: The video file {video_path} does not exist.\")"
   ]
  },
  {
   "cell_type": "code",
   "execution_count": 4,
   "id": "4f1e2b81-b539-4bde-b76d-1dde18941184",
   "metadata": {},
   "outputs": [],
   "source": [
    "# Try opening the video file\n",
    "cap = cv2.VideoCapture(video_path)\n",
    "if not cap.isOpened():\n",
    "    raise ValueError(\"Error: Unable to open video file.\")"
   ]
  },
  {
   "cell_type": "code",
   "execution_count": 5,
   "id": "0b64ebf0-c8d9-4647-bdb4-d2bcab232d95",
   "metadata": {},
   "outputs": [],
   "source": [
    " # Read the first frame to get width and height\n",
    "ret, frame = cap.read()\n",
    "if ret:\n",
    "    height, width = frame.shape[:2]\n",
    "    # Define new dimensions (e.g., half the original size)\n",
    "    new_width = width // 2\n",
    "    new_height = height // 2\n",
    "    # Initialize VideoWriter with the new dimensions\n",
    "    out = cv2.VideoWriter('processed_video.mp4', cv2.VideoWriter_fourcc(*'mp4v'), 30, (new_width, new_height))\n",
    "else:\n",
    "    cap.release()\n",
    "    raise ValueError(\"Error: Unable to read the first frame of the video file.\")"
   ]
  },
  {
   "cell_type": "code",
   "execution_count": 6,
   "id": "b71fb8bc-3c32-4d98-907c-db34f3a2b738",
   "metadata": {},
   "outputs": [],
   "source": [
    "# Define the quadrants (assuming 2x2 grid for simplicity)\n",
    "def get_quadrant(x, y, width, height):\n",
    "    if x < width / 2 and y < height / 2:\n",
    "        return 1\n",
    "    elif x >= width / 2 and y < height / 2:\n",
    "        return 2\n",
    "    elif x < width / 2 and y >= height / 2:\n",
    "        return 3\n",
    "    else:\n",
    "        return 4"
   ]
  },
  {
   "cell_type": "code",
   "execution_count": 7,
   "id": "952db046-3c01-4343-9f3f-6a97090e8934",
   "metadata": {},
   "outputs": [],
   "source": [
    "# Define color ranges for detection (BGR format)\n",
    "color_ranges = {\n",
    "    'red': ([0, 0, 100], [50, 56, 255]),\n",
    "    'green': ([0, 100, 0], [50, 255, 50]),\n",
    "    'blue': ([100, 0, 0], [255, 50, 50])\n",
    "}\n",
    "\n",
    "def detect_balls(frame):\n",
    "    balls = []\n",
    "    hsv = cv2.cvtColor(frame, cv2.COLOR_BGR2HSV)\n",
    "    for color, (lower, upper) in color_ranges.items():\n",
    "        lower = np.array(lower, dtype=\"uint8\")\n",
    "        upper = np.array(upper, dtype=\"uint8\")\n",
    "        mask = cv2.inRange(hsv, lower, upper)\n",
    "        cnts = cv2.findContours(mask.copy(), cv2.RETR_EXTERNAL, cv2.CHAIN_APPROX_SIMPLE)[-2]\n",
    "        for c in cnts:\n",
    "            ((x, y), radius) = cv2.minEnclosingCircle(c)\n",
    "            if radius > 10:  # Minimum size of ball\n",
    "                balls.append((int(x), int(y), color))\n",
    "    return balls\n",
    "\n",
    "# Initialize variables\n",
    "prev_positions = {}\n",
    "event_log = []\n",
    "start_time = time.time()"
   ]
  },
  {
   "cell_type": "code",
   "execution_count": 8,
   "id": "3abae9f3-99a2-4795-a2c2-f5eca899ccdb",
   "metadata": {},
   "outputs": [],
   "source": [
    "# Reset the capture to start from the beginning\n",
    "cap.set(cv2.CAP_PROP_POS_FRAMES, 0)\n",
    "\n",
    "while cap.isOpened():\n",
    "    ret, frame = cap.read()\n",
    "    if not ret:\n",
    "        break\n",
    "\n",
    "    # Resize the frame to the new dimensions\n",
    "    frame = cv2.resize(frame, (new_width, new_height))\n",
    "\n",
    "    balls = detect_balls(frame)\n",
    "    \n",
    "    for (x, y, color) in balls:\n",
    "        quadrant = get_quadrant(x, y, new_width, new_height)\n",
    "        if color in prev_positions:\n",
    "            prev_quadrant = prev_positions[color]\n",
    "            if prev_quadrant != quadrant:\n",
    "                timestamp = time.time() - start_time\n",
    "                event_log.append((timestamp, prev_quadrant, color, 'Exit'))\n",
    "                event_log.append((timestamp, quadrant, color, 'Entry'))\n",
    "                cv2.putText(frame, f\"Exit {prev_quadrant} - {timestamp:.2f}\", (x, y - 30), cv2.FONT_HERSHEY_SIMPLEX, 0.5, (0, 255, 0), 2)\n",
    "                cv2.putText(frame, f\"Entry {quadrant} - {timestamp:.2f}\", (x, y - 50), cv2.FONT_HERSHEY_SIMPLEX, 0.5, (0, 0, 255), 2)\n",
    "        prev_positions[color] = quadrant\n",
    "        \n",
    "        # Draw ball and quadrant\n",
    "        cv2.circle(frame, (x, y), 10, (0, 255, 255), -1)\n",
    "        cv2.putText(frame, f'{color} - {quadrant}', (x, y - 10), cv2.FONT_HERSHEY_SIMPLEX, 0.5, (255, 255, 255), 2)\n",
    "    \n",
    "    out.write(frame)\n",
    "\n",
    "cap.release()\n",
    "out.release()"
   ]
  },
  {
   "cell_type": "code",
   "execution_count": 9,
   "id": "bb9a9688-2892-4925-ad1b-b8cc68686c98",
   "metadata": {},
   "outputs": [],
   "source": [
    "# Save event data to a text file\n",
    "with open('event_log.txt', 'w') as f:\n",
    "    for event in event_log:\n",
    "        f.write(f\"{event[0]:.2f}, {event[1]}, {event[2]}, {event[3]}\\n\")"
   ]
  }
 ],
 "metadata": {
  "kernelspec": {
   "display_name": "Python 3 (ipykernel)",
   "language": "python",
   "name": "python3"
  },
  "language_info": {
   "codemirror_mode": {
    "name": "ipython",
    "version": 3
   },
   "file_extension": ".py",
   "mimetype": "text/x-python",
   "name": "python",
   "nbconvert_exporter": "python",
   "pygments_lexer": "ipython3",
   "version": "3.11.5"
  }
 },
 "nbformat": 4,
 "nbformat_minor": 5
}
